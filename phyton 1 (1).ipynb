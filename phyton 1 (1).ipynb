{
 "cells": [
  {
   "cell_type": "code",
   "execution_count": null,
   "id": "89064a21",
   "metadata": {},
   "outputs": [],
   "source": [
    "#Variables \n",
    "numero1 = 5\n",
    "numero2 = 10\n",
    "suma = numero1 + numero2\n",
    "\n",
    "#casing de int =< str\n",
    "print(\"La suma de los 2 numeros es: \" + str(suma))\n",
    "\n",
    "#print usando una expresion (La expresion se evalua a un valor)\n",
    "print(\"La multiplicacion de los 2 numeros es: \" + str(numero1 * numero2))"
   ]
  },
  {
   "cell_type": "code",
   "execution_count": null,
   "id": "d5384886",
   "metadata": {},
   "outputs": [],
   "source": [
    "#Entrada de datos\n",
    "a = input(\"Vamos a sumar 2 numeros. Introduce el primer numero\")\n",
    "b = input(\"Vamos a sumar 2 numeros. Introduce el segundo numero\")\n",
    "print(\"El resultado de la suma es: \" + str(int(a) + int(b)))"
   ]
  },
  {
   "cell_type": "code",
   "execution_count": null,
   "id": "f53dd8d9",
   "metadata": {},
   "outputs": [],
   "source": [
    "#control de fujo (if)\n",
    "numero1 = 5\n",
    "numero2 = 10\n",
    "if numero1 < numero2:\n",
    "    print(\"El numero1 es menor\")\n",
    "else:\n",
    "    print(\"El numero2 es menor\")"
   ]
  },
  {
   "cell_type": "code",
   "execution_count": null,
   "id": "af869d6d",
   "metadata": {},
   "outputs": [],
   "source": [
    "#control de flujo (for)\n",
    "mi_lista =[1, 2, 3, 4, 5]\n",
    "print(\"La lista es: \" + str(mi_lista))\n",
    "for elemento in mi_lista:\n",
    "    print(\"El doble de cada elemnto de la lista es: \" + str(elemento*2))"
   ]
  },
  {
   "cell_type": "code",
   "execution_count": 2,
   "id": "396ee2d8",
   "metadata": {},
   "outputs": [
    {
     "name": "stdout",
     "output_type": "stream",
     "text": [
      "sum: 2\n",
      "sum: 6\n",
      "sum: 12\n",
      "sum: 20\n",
      "sum: 30\n",
      "sum: 42\n",
      "sum: 56\n",
      "sum: 72\n",
      "sum: 90\n",
      "sum: 110\n"
     ]
    }
   ],
   "source": [
    "# control de flujo (while)\n",
    "i = 1\n",
    "s = 0\n",
    "while i <= 10:\n",
    "    s = s + i*2\n",
    "    i = i + 1\n",
    "    print(\"sum:\",s)"
   ]
  },
  {
   "cell_type": "code",
   "execution_count": 16,
   "id": "844f4c60",
   "metadata": {},
   "outputs": [
    {
     "name": "stdout",
     "output_type": "stream",
     "text": [
      "[1, 2, 3, 7, 10]\n",
      "['audi', 'ford', 'citroen', 'ferrari', 'peugeout']\n",
      "el primer elemento es: audi\n",
      "el ultimo elemento es: peugeout\n",
      "La marca numero0 es: audi\n",
      "La marca numero1 es: ford\n",
      "La marca numero2 es: citroen\n",
      "La marca numero3 es: ferrari\n",
      "La marca numero4 es: peugeout\n"
     ]
    }
   ],
   "source": [
    "# listas\n",
    "lista1 = [1, 2, 3, 7, 10]\n",
    "print(lista1)\n",
    "\n",
    "marcas_coche = [\"audi\", \"ford\", \"citroen\", \"ferrari\", \"peugeout\"]\n",
    "print(marcas_coche)\n",
    "\n",
    "# Accediendo a elementos\n",
    "print(\"el primer elemento es: \" + marcas_coche[0])\n",
    "print(\"el ultimo elemento es: \" + marcas_coche[-1])\n",
    "\n",
    "# Iterar la lista \n",
    "for indice in range(len(marcas_coche)):\n",
    "    print(\"La marca numero\" + str(indice) + \" es: \" + marcas_coche[indice])\n",
    "    \n",
    "caracteristicas_empleo = (\"telefonica\")"
   ]
  },
  {
   "cell_type": "code",
   "execution_count": 1,
   "id": "181704d8",
   "metadata": {},
   "outputs": [
    {
     "name": "stdout",
     "output_type": "stream",
     "text": [
      "#################\n",
      "### LISTAS () ###\n",
      "#################\n",
      "\n",
      "### ACCESO A LOS ELEMENTOS DE LA LISTA ###\n",
      "Todos los elementos de la lista (con numeros):\n",
      "[1, 2, 3, 7, 10]\n",
      "Modificando un elemento de la lista (el primero)...\n",
      "[50, 2, 3, 7, 10]\n",
      "\n",
      "Todos los elementos de la lista (con strings):\n",
      "['audi', 'ford', 'citroen', 'ferrari', 'peugeout']\n",
      "El primer elemento es => audi\n",
      "El ultimo elemento es (indice negativoÇ) => peugeout\n",
      "\n",
      "### ITERAR UNA LISTA ###\n",
      "La longitud de la lista es => 5\n",
      "La marca numero 0 es => audi\n",
      "La marca numero 1 es => ford\n",
      "La marca numero 2 es => citroen\n",
      "La marca numero 3 es => ferrari\n",
      "La marca numero 4 es => peugeout\n",
      "\n",
      "### LISTA CON ELEMENTOS DE DIFERENTES TIPOS ###\n",
      "Valores de la lista con diferentes tipos:\n",
      "['Telefonica', 1500, 37.5, True]\n"
     ]
    }
   ],
   "source": [
    "print(\"#################\")\n",
    "print(\"### LISTAS () ###\")\n",
    "print(\"#################\")\n",
    "\n",
    "print(\"\\n### ACCESO A LOS ELEMENTOS DE LA LISTA ###\")\n",
    "lista1 = [1, 2, 3, 7, 10]\n",
    "print(\"Todos los elementos de la lista (con numeros):\")\n",
    "print(lista1)\n",
    "\n",
    "print(\"Modificando un elemento de la lista (el primero)...\")\n",
    "lista1[0] = 50\n",
    "print(lista1)\n",
    "\n",
    "print()\n",
    "lista_marcas_coche = [\"audi\" , \"ford\" , \"citroen\", \"ferrari\" , \"peugeout\"]\n",
    "print(\"Todos los elementos de la lista (con strings):\")\n",
    "print(lista_marcas_coche)\n",
    "\n",
    "\n",
    "print(\"El primer elemento es => \" + lista_marcas_coche[0])\n",
    "print(\"El ultimo elemento es (indice negativoÇ) => \" + lista_marcas_coche[-1])\n",
    "\n",
    "\n",
    "print(\"\\n### ITERAR UNA LISTA ###\" )\n",
    "print(\"La longitud de la lista es => \" + str(len(lista_marcas_coche)) )  # Esto se puede omitir\n",
    "for indice  in range(len(lista_marcas_coche)):   # \"Para cada elemento que haya en la lista (independiente del tamaño de la lista)\n",
    "    print(\"La marca numero \" + str(indice) +  \" es => \" + lista_marcas_coche[indice] )\n",
    "\n",
    "print(\"\\n### LISTA CON ELEMENTOS DE DIFERENTES TIPOS ###\" )\n",
    "caracteristicas_empleo = [\"Telefonica\", 1500, 37.5, True]  # tipo booleano (True / False)\n",
    "print(\"Valores de la lista con diferentes tipos:\")\n",
    "print(caracteristicas_empleo)"
   ]
  },
  {
   "cell_type": "code",
   "execution_count": null,
   "id": "a3391418",
   "metadata": {},
   "outputs": [],
   "source": []
  }
 ],
 "metadata": {
  "kernelspec": {
   "display_name": "Python 3 (ipykernel)",
   "language": "python",
   "name": "python3"
  },
  "language_info": {
   "codemirror_mode": {
    "name": "ipython",
    "version": 3
   },
   "file_extension": ".py",
   "mimetype": "text/x-python",
   "name": "python",
   "nbconvert_exporter": "python",
   "pygments_lexer": "ipython3",
   "version": "3.10.9"
  }
 },
 "nbformat": 4,
 "nbformat_minor": 5
}
